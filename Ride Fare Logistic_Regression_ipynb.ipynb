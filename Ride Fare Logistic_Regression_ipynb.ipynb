{
  "nbformat": 4,
  "nbformat_minor": 0,
  "metadata": {
    "colab": {
      "name": "Ml Taxi Fiar -ReportLogistic Regression.ipynb.ipynb",
      "provenance": [],
      "collapsed_sections": []
    },
    "kernelspec": {
      "name": "python3",
      "display_name": "Python 3"
    }
  },
  "cells": [
    {
      "cell_type": "code",
      "metadata": {
        "id": "bwdBtEk75FXU",
        "colab_type": "code",
        "colab": {
          "base_uri": "https://localhost:8080/",
          "height": 52
        },
        "outputId": "7582a433-6b77-4e0c-dcbc-ab259b6abe34"
      },
      "source": [
        "import pandas as pd\n",
        "import matplotlib.pyplot as plt\n",
        "\n",
        "import seaborn as sns\n",
        "import numpy as np\n",
        "from scipy.stats import norm\n",
        "from sklearn.preprocessing import StandardScaler\n",
        "from scipy import stats\n",
        "import warnings\n",
        "warnings.filterwarnings('ignore')\n",
        "%matplotlib inline"
      ],
      "execution_count": null,
      "outputs": [
        {
          "output_type": "stream",
          "text": [
            "/usr/local/lib/python3.6/dist-packages/statsmodels/tools/_testing.py:19: FutureWarning: pandas.util.testing is deprecated. Use the functions in the public API at pandas.testing instead.\n",
            "  import pandas.util.testing as tm\n"
          ],
          "name": "stderr"
        }
      ]
    },
    {
      "cell_type": "code",
      "metadata": {
        "id": "XCOGdFlQ5R88",
        "colab_type": "code",
        "colab": {}
      },
      "source": [
        "dataframe = pd.read_csv(\"/content/drive/My Drive/ML Project Taxi Fair/train.csv\")"
      ],
      "execution_count": null,
      "outputs": []
    },
    {
      "cell_type": "code",
      "metadata": {
        "id": "5LR0HBWX5Vn6",
        "colab_type": "code",
        "colab": {}
      },
      "source": [
        "dataframe.dropna(inplace=True)"
      ],
      "execution_count": null,
      "outputs": []
    },
    {
      "cell_type": "code",
      "metadata": {
        "id": "4Aofbj5J6Ka_",
        "colab_type": "code",
        "colab": {}
      },
      "source": [
        "#Save dataset without nan values\n",
        "dataframe.to_csv(\"/content/drive/My Drive/ML Project Taxi Fair/Train_without_nan.csv\", index=False)"
      ],
      "execution_count": null,
      "outputs": []
    },
    {
      "cell_type": "code",
      "metadata": {
        "id": "xj5HDciP5d7f",
        "colab_type": "code",
        "colab": {
          "base_uri": "https://localhost:8080/",
          "height": 278
        },
        "outputId": "8d12be83-8983-435b-b4b9-93c9a2e647b1"
      },
      "source": [
        "dataframe.isna().sum()"
      ],
      "execution_count": null,
      "outputs": [
        {
          "output_type": "execute_result",
          "data": {
            "text/plain": [
              "tripid                       0\n",
              "additional_fare              0\n",
              "duration                     0\n",
              "meter_waiting                0\n",
              "meter_waiting_fare           0\n",
              "meter_waiting_till_pickup    0\n",
              "pickup_time                  0\n",
              "drop_time                    0\n",
              "pick_lat                     0\n",
              "pick_lon                     0\n",
              "drop_lat                     0\n",
              "drop_lon                     0\n",
              "fare                         0\n",
              "label                        0\n",
              "dtype: int64"
            ]
          },
          "metadata": {
            "tags": []
          },
          "execution_count": 5
        }
      ]
    },
    {
      "cell_type": "code",
      "metadata": {
        "id": "Pwl2ul3G5fwQ",
        "colab_type": "code",
        "colab": {}
      },
      "source": [
        "#Try to fit the data without any transeformation\n",
        "\n",
        "#Convert labels for 1 and 0\n",
        "#Before do describe, Let's convert the label as 1 and 0 .(1-correct and 0-incorrect)\n",
        "def encoding_label(label):\n",
        "  if(label=='correct'):\n",
        "    return 1\n",
        "  else:\n",
        "    return 0\n",
        "\n",
        "dataframe['label']= dataframe['label'].apply(encoding_label).values"
      ],
      "execution_count": null,
      "outputs": []
    },
    {
      "cell_type": "code",
      "metadata": {
        "id": "T_cloBp66tYW",
        "colab_type": "code",
        "colab": {}
      },
      "source": [
        "from sklearn.tree import DecisionTreeClassifier\n",
        "from sklearn.model_selection import train_test_split\n",
        "from sklearn.model_selection import cross_val_score\n",
        "from sklearn.model_selection import StratifiedKFold\n",
        "from sklearn.metrics import classification_report\n",
        "from sklearn.metrics import confusion_matrix\n",
        "from sklearn.metrics import accuracy_score, f1_score\n",
        "from sklearn.linear_model import LogisticRegression\n",
        "from sklearn.tree import DecisionTreeClassifier\n",
        "from sklearn.neighbors import KNeighborsClassifier\n",
        "from sklearn.discriminant_analysis import LinearDiscriminantAnalysis\n",
        "from sklearn.naive_bayes import GaussianNB\n",
        "from sklearn.svm import SVC\n",
        "from sklearn.model_selection import train_test_split\n"
      ],
      "execution_count": null,
      "outputs": []
    },
    {
      "cell_type": "code",
      "metadata": {
        "id": "lzDx4dUS5yKp",
        "colab_type": "code",
        "colab": {}
      },
      "source": [
        "X = dataframe.drop(columns=['label', 'tripid', 'drop_time', 'pickup_time']).values\n",
        "Y = dataframe['label'].values\n",
        "X_train, X_validation, Y_train, Y_validation = train_test_split(X, Y, test_size=0.20, random_state=1)"
      ],
      "execution_count": null,
      "outputs": []
    },
    {
      "cell_type": "code",
      "metadata": {
        "id": "fESTCV9h6FjZ",
        "colab_type": "code",
        "colab": {
          "base_uri": "https://localhost:8080/",
          "height": 121
        },
        "outputId": "886ef607-9126-4ed3-e1f4-80f1ee822bb6"
      },
      "source": [
        "model = DecisionTreeClassifier()\n",
        "model.fit(X_train, Y_train)"
      ],
      "execution_count": null,
      "outputs": [
        {
          "output_type": "execute_result",
          "data": {
            "text/plain": [
              "DecisionTreeClassifier(ccp_alpha=0.0, class_weight=None, criterion='gini',\n",
              "                       max_depth=None, max_features=None, max_leaf_nodes=None,\n",
              "                       min_impurity_decrease=0.0, min_impurity_split=None,\n",
              "                       min_samples_leaf=1, min_samples_split=2,\n",
              "                       min_weight_fraction_leaf=0.0, presort='deprecated',\n",
              "                       random_state=None, splitter='best')"
            ]
          },
          "metadata": {
            "tags": []
          },
          "execution_count": 9
        }
      ]
    },
    {
      "cell_type": "code",
      "metadata": {
        "id": "nKUv7FgN7dvn",
        "colab_type": "code",
        "colab": {
          "base_uri": "https://localhost:8080/",
          "height": 34
        },
        "outputId": "8a49dd3d-3e6e-4f0d-881a-c0a5795e9056"
      },
      "source": [
        "print(\"Accuracy score : {0}\".format(model.score(X_validation, Y_validation)))"
      ],
      "execution_count": null,
      "outputs": [
        {
          "output_type": "stream",
          "text": [
            "Accuracy score : 0.91101944608132\n"
          ],
          "name": "stdout"
        }
      ]
    },
    {
      "cell_type": "code",
      "metadata": {
        "id": "dCvU0m2s7oWA",
        "colab_type": "code",
        "colab": {
          "base_uri": "https://localhost:8080/",
          "height": 34
        },
        "outputId": "1ecac5f5-5ef2-489e-914f-3e710d633a00"
      },
      "source": [
        "predictions = model.predict(X_validation)\n",
        "\n",
        "print(\"F1 score {0}\".format(f1_score(predictions, Y_validation)))"
      ],
      "execution_count": null,
      "outputs": [
        {
          "output_type": "stream",
          "text": [
            "F1 score 0.9510851959831552\n"
          ],
          "name": "stdout"
        }
      ]
    },
    {
      "cell_type": "code",
      "metadata": {
        "id": "i5fmSKCL8s1w",
        "colab_type": "code",
        "colab": {}
      },
      "source": [
        "#So the raw data without any tranformations gives 0.910 accuracy and 0.95059 f1 score\n",
        "#Let's transform the data by np.log because off high skewness\n",
        "\n",
        "dataframe_tr = dataframe.drop(columns=['tripid','tripid', 'drop_time', 'pickup_time'])"
      ],
      "execution_count": null,
      "outputs": []
    },
    {
      "cell_type": "code",
      "metadata": {
        "id": "NHqybk_s9rFf",
        "colab_type": "code",
        "colab": {}
      },
      "source": [
        "#For log scale the value can't be zero. So add 1 to every cell\n",
        "dataframe_tr = dataframe_tr+1\n",
        "\n",
        "#Convert to log scale\n",
        "dataframe_tr = np.log(dataframe_tr)"
      ],
      "execution_count": null,
      "outputs": []
    },
    {
      "cell_type": "code",
      "metadata": {
        "id": "95eJ73Ye98Tv",
        "colab_type": "code",
        "colab": {
          "base_uri": "https://localhost:8080/",
          "height": 52
        },
        "outputId": "49199f7d-1b86-47fd-d7d1-156bc6947a45"
      },
      "source": [
        "#Model fit and train\n",
        "X = dataframe_tr.drop(columns=['label']).values\n",
        "Y = dataframe['label'].values\n",
        "X_train, X_validation, Y_train, Y_validation = train_test_split(X, Y, test_size=0.20, random_state=1)\n",
        "\n",
        "model = LogisticRegression()\n",
        "model.fit(X_train, Y_train)\n",
        "\n",
        "predictions = model.predict(X_validation)\n",
        "print(\"Accuracy score : {0}\".format(model.score(X_validation, Y_validation)))\n",
        "print(\"F1 score {0}\".format(f1_score(predictions, Y_validation)))"
      ],
      "execution_count": null,
      "outputs": [
        {
          "output_type": "stream",
          "text": [
            "Accuracy score : 0.9192692987625221\n",
            "F1 score 0.9575062034739454\n"
          ],
          "name": "stdout"
        }
      ]
    },
    {
      "cell_type": "code",
      "metadata": {
        "id": "noPqujOO9-c8",
        "colab_type": "code",
        "colab": {
          "base_uri": "https://localhost:8080/",
          "height": 52
        },
        "outputId": "4697c2a1-7c30-4474-debc-48e66ef0d282"
      },
      "source": [
        "#Lets deal with np.log and min max scaler\n",
        "\n",
        "from sklearn.preprocessing import MinMaxScaler\n",
        "\n",
        "scaler = MinMaxScaler()\n",
        "scaler.fit(dataframe_tr.drop(columns=['label']).values)\n",
        "\n",
        "#Transform and svae to X\n",
        "X = scaler.transform(dataframe_tr.drop(columns=['label']).values)\n",
        "Y = dataframe['label'].values\n",
        "X_train, X_validation, Y_train, Y_validation = train_test_split(X, Y, test_size=0.20, random_state=1)\n",
        "\n",
        "model = LogisticRegression()\n",
        "model.fit(X_train, Y_train)\n",
        "\n",
        "predictions = model.predict(X_validation)\n",
        "print(\"Accuracy score : {0}\".format(model.score(X_validation, Y_validation)))\n",
        "print(\"F1 score {0}\".format(f1_score(predictions, Y_validation)))"
      ],
      "execution_count": null,
      "outputs": [
        {
          "output_type": "stream",
          "text": [
            "Accuracy score : 0.9142604596346494\n",
            "F1 score 0.9550717924965262\n"
          ],
          "name": "stdout"
        }
      ]
    },
    {
      "cell_type": "code",
      "metadata": {
        "id": "bJPPbq0A_sRx",
        "colab_type": "code",
        "colab": {
          "base_uri": "https://localhost:8080/",
          "height": 52
        },
        "outputId": "4cab5bf1-11a1-4818-9a43-7781354fb546"
      },
      "source": [
        "#Lets deal with np.log and Standard scaler\n",
        "\n",
        "from sklearn.preprocessing import StandardScaler\n",
        "\n",
        "scaler = StandardScaler()\n",
        "scaler.fit(dataframe_tr.drop(columns=['label']).values)\n",
        "\n",
        "#Transform and svae to X\n",
        "X = scaler.transform(dataframe_tr.drop(columns=['label']).values)\n",
        "Y = dataframe['label'].values\n",
        "X_train, X_validation, Y_train, Y_validation = train_test_split(X, Y, test_size=0.20, random_state=1)\n",
        "\n",
        "model = LogisticRegression()\n",
        "model.fit(X_train, Y_train)\n",
        "\n",
        "predictions = model.predict(X_validation)\n",
        "print(\"Accuracy score : {0}\".format(model.score(X_validation, Y_validation)))\n",
        "print(\"F1 score {0}\".format(f1_score(predictions, Y_validation)))"
      ],
      "execution_count": null,
      "outputs": [
        {
          "output_type": "stream",
          "text": [
            "Accuracy score : 0.9189746611667649\n",
            "F1 score 0.9573577298806016\n"
          ],
          "name": "stdout"
        }
      ]
    },
    {
      "cell_type": "code",
      "metadata": {
        "id": "NuqrnPSyAAos",
        "colab_type": "code",
        "colab": {
          "base_uri": "https://localhost:8080/",
          "height": 52
        },
        "outputId": "24846d92-839c-48db-a11f-b57990dfe989"
      },
      "source": [
        "#Lets deal with np.log and Robust scaler\n",
        "\n",
        "from sklearn.preprocessing import RobustScaler\n",
        "\n",
        "scaler = RobustScaler()\n",
        "scaler.fit(dataframe_tr.drop(columns=['label']).values)\n",
        "\n",
        "#Transform and svae to X\n",
        "X = scaler.transform(dataframe_tr.drop(columns=['label']).values)\n",
        "Y = dataframe['label'].values\n",
        "X_train, X_validation, Y_train, Y_validation = train_test_split(X, Y, test_size=0.20, random_state=1)\n",
        "\n",
        "model = LogisticRegression()\n",
        "model.fit(X_train, Y_train)\n",
        "\n",
        "predictions = model.predict(X_validation)\n",
        "print(\"Accuracy score : {0}\".format(model.score(X_validation, Y_validation)))\n",
        "print(\"F1 score {0}\".format(f1_score(predictions, Y_validation)))"
      ],
      "execution_count": null,
      "outputs": [
        {
          "output_type": "stream",
          "text": [
            "Accuracy score : 0.9189746611667649\n",
            "F1 score 0.9573577298806016\n"
          ],
          "name": "stdout"
        }
      ]
    },
    {
      "cell_type": "code",
      "metadata": {
        "id": "PUrPCMomAJKe",
        "colab_type": "code",
        "colab": {
          "base_uri": "https://localhost:8080/",
          "height": 173
        },
        "outputId": "c6a6be4d-852a-4591-8d8e-ab732ae295ca"
      },
      "source": [
        "#Lets choose np.log and minmax and Grid search for parameters\n",
        "\n",
        "from sklearn.model_selection import GridSearchCV, cross_val_score\n",
        "from sklearn.preprocessing import MinMaxScaler\n",
        "\n",
        "\n",
        "parameters = {\n",
        "     'penalty' : ['l1', 'l2'],\n",
        "    'C' : np.logspace(-4, 4, 20),\n",
        "    'solver' : ['saga']\n",
        "    }\n",
        "####Minmaxand log transformation start\n",
        "\n",
        "scaler = MinMaxScaler()\n",
        "scaler.fit(dataframe_tr.drop(columns=['label']).values)\n",
        "\n",
        "#Transform and svae to X\n",
        "X = scaler.transform(dataframe_tr.drop(columns=['label']).values)\n",
        "Y = dataframe['label'].values\n",
        "X_train, X_validation, Y_train, Y_validation = train_test_split(X, Y, test_size=0.20, random_state=1)\n",
        "\n",
        "####end of transformation\n",
        "\n",
        "model = LogisticRegression()\n",
        "\n",
        "clf = GridSearchCV(model, parameters)\n",
        "\n",
        "# Fit the grid search\n",
        "clf.fit(X_train, Y_train)\n",
        "\n",
        "# View The Best Parameters\n",
        "print('Best penalty:', clf.best_estimator_.get_params()['penalty'])\n",
        "print('Best C:', clf.best_estimator_.get_params()['C'])\n",
        "print(\"Best score : \", clf.best_score_)\n",
        "\n",
        "#Predictions\n",
        "model = clf.best_estimator_\n",
        "predictions = model.predict(X_validation)\n",
        "print(\"F1 Score : \", f1_score(Y_validation, predictions))\n",
        "clf.best_estimator_\n"
      ],
      "execution_count": null,
      "outputs": [
        {
          "output_type": "stream",
          "text": [
            "Best penalty: l1\n",
            "Best C: 206.913808111479\n",
            "Best score :  0.9170472727864928\n",
            "F1 Score :  0.9573577298806016\n"
          ],
          "name": "stdout"
        },
        {
          "output_type": "execute_result",
          "data": {
            "text/plain": [
              "LogisticRegression(C=206.913808111479, class_weight=None, dual=False,\n",
              "                   fit_intercept=True, intercept_scaling=1, l1_ratio=None,\n",
              "                   max_iter=100, multi_class='auto', n_jobs=None, penalty='l1',\n",
              "                   random_state=None, solver='saga', tol=0.0001, verbose=0,\n",
              "                   warm_start=False)"
            ]
          },
          "metadata": {
            "tags": []
          },
          "execution_count": 26
        }
      ]
    },
    {
      "cell_type": "code",
      "metadata": {
        "id": "Ab0YdJicBnIW",
        "colab_type": "code",
        "colab": {}
      },
      "source": [
        ""
      ],
      "execution_count": null,
      "outputs": []
    }
  ]
}